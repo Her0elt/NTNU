{
 "cells": [
  {
   "cell_type": "code",
   "execution_count": 15,
   "source": [
    "import torch\r\n",
    "import torch.nn as nn\r\n",
    "import torchvision\r\n",
    "\r\n",
    "\r\n",
    "if torch.cuda.is_available(): \r\n",
    " dev = \"cuda:0\" \r\n",
    "else: \r\n",
    " dev = \"cpu\" \r\n",
    "device = torch.device(dev)\r\n",
    "\r\n",
    "mnist_train = torchvision.datasets.MNIST('./data', train=True, download=True)\r\n",
    "x_train = mnist_train.data.reshape(-1, 1, 28, 28).float() \r\n",
    "y_train = torch.zeros((mnist_train.targets.shape[0], 10))  \r\n",
    "y_train[torch.arange(mnist_train.targets.shape[0]), mnist_train.targets] = 1 \r\n",
    "\r\n",
    "mnist_test = torchvision.datasets.MNIST('./data', train=False, download=True)\r\n",
    "x_test = mnist_test.data.reshape(-1, 1, 28, 28).float() \r\n",
    "y_test = torch.zeros((mnist_test.targets.shape[0], 10))  \r\n",
    "y_test[torch.arange(mnist_test.targets.shape[0]), mnist_test.targets] = 1  \r\n",
    "\r\n",
    "mean = x_train.mean()\r\n",
    "std = x_train.std()\r\n",
    "x_train = (x_train - mean) / std\r\n",
    "x_test = (x_test - mean) / std\r\n",
    "\r\n",
    "batches = 600\r\n",
    "x_train_batches = torch.split(x_train, batches)\r\n",
    "y_train_batches = torch.split(y_train, batches)"
   ],
   "outputs": [],
   "metadata": {}
  },
  {
   "cell_type": "code",
   "execution_count": 16,
   "source": [
    "class ConvolutionalNeuralNetworkModel(nn.Module):\r\n",
    "    def __init__(self):\r\n",
    "        super(ConvolutionalNeuralNetworkModel, self).__init__()\r\n",
    "\r\n",
    "        self.logits = nn.Sequential(\r\n",
    "            nn.Conv2d(1, 32, kernel_size=5, padding=2), \r\n",
    "            nn.MaxPool2d(kernel_size=2), \r\n",
    "            nn.Conv2d(32, 64, kernel_size=5, padding=2),\r\n",
    "            nn.MaxPool2d(kernel_size=2), \r\n",
    "            nn.Flatten(), \r\n",
    "            nn.Linear(64 * 7 * 7, 1024),\r\n",
    "            nn.Flatten(), \r\n",
    "            nn.Linear(1024, 10)).to(device)\r\n",
    "\r\n",
    "    def f(self, x):\r\n",
    "        return torch.softmax(self.logits(x), dim=1)\r\n",
    "\r\n",
    "    def loss(self, x, y):\r\n",
    "        return nn.functional.cross_entropy(self.logits(x), y.argmax(1)).to(device)\r\n",
    "\r\n",
    "    def accuracy(self, x, y):\r\n",
    "        return torch.mean(torch.eq(self.f(x).argmax(1), y.argmax(1)).float()).to(device)"
   ],
   "outputs": [],
   "metadata": {}
  },
  {
   "cell_type": "code",
   "execution_count": 17,
   "source": [
    "model = ConvolutionalNeuralNetworkModel()\n",
    "\n",
    "optimizer = torch.optim.Adam(model.parameters(), 0.001)\n",
    "for epoch in range(20):\n",
    "    for batch in range(len(x_train_batches)):\n",
    "        model.loss(x_train_batches[batch].to(device), y_train_batches[batch].to(device)).backward() \n",
    "        optimizer.step()  \n",
    "        optimizer.zero_grad()  \n",
    "\n",
    "    print(\"accuracy = %s\" % model.accuracy(x_test.to(device), y_test.to(device))) "
   ],
   "outputs": [
    {
     "output_type": "stream",
     "name": "stdout",
     "text": [
      "accuracy = tensor(0.9735, device='cuda:0')\n",
      "accuracy = tensor(0.9832, device='cuda:0')\n",
      "accuracy = tensor(0.9828, device='cuda:0')\n",
      "accuracy = tensor(0.9810, device='cuda:0')\n",
      "accuracy = tensor(0.9783, device='cuda:0')\n",
      "accuracy = tensor(0.9773, device='cuda:0')\n",
      "accuracy = tensor(0.9768, device='cuda:0')\n",
      "accuracy = tensor(0.9816, device='cuda:0')\n",
      "accuracy = tensor(0.9784, device='cuda:0')\n",
      "accuracy = tensor(0.9824, device='cuda:0')\n",
      "accuracy = tensor(0.9803, device='cuda:0')\n",
      "accuracy = tensor(0.9812, device='cuda:0')\n",
      "accuracy = tensor(0.9808, device='cuda:0')\n",
      "accuracy = tensor(0.9804, device='cuda:0')\n",
      "accuracy = tensor(0.9822, device='cuda:0')\n",
      "accuracy = tensor(0.9818, device='cuda:0')\n",
      "accuracy = tensor(0.9763, device='cuda:0')\n",
      "accuracy = tensor(0.9836, device='cuda:0')\n",
      "accuracy = tensor(0.9818, device='cuda:0')\n",
      "accuracy = tensor(0.9837, device='cuda:0')\n"
     ]
    }
   ],
   "metadata": {}
  }
 ],
 "metadata": {
  "orig_nbformat": 4,
  "language_info": {
   "name": "python",
   "version": "3.8.10",
   "mimetype": "text/x-python",
   "codemirror_mode": {
    "name": "ipython",
    "version": 3
   },
   "pygments_lexer": "ipython3",
   "nbconvert_exporter": "python",
   "file_extension": ".py"
  },
  "kernelspec": {
   "name": "python3",
   "display_name": "Python 3.8.10 64-bit"
  },
  "interpreter": {
   "hash": "916dbcbb3f70747c44a77c7bcd40155683ae19c65e1c03b4aa3499c5328201f1"
  }
 },
 "nbformat": 4,
 "nbformat_minor": 2
}