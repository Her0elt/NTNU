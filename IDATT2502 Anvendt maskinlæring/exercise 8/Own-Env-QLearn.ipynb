{
 "cells": [
  {
   "cell_type": "code",
   "execution_count": null,
   "metadata": {},
   "outputs": [],
   "source": [
    "#Taken from #Taken from https://github.com/diderikk/IDATT2502-MachineLearning/blob/master/Oving8/\n",
    "\n",
    "import numpy as np\n",
    "from time import sleep\n",
    "import random\n",
    "from environment import Environment\n",
    "import matplotlib.pyplot as plt "
   ]
  },
  {
   "cell_type": "code",
   "execution_count": null,
   "metadata": {},
   "outputs": [],
   "source": [
    "env = Environment()\n",
    "q_table = np.random.uniform(low=-1, high=1, size=([len(env.rewards)] * 2 + [4]))\n",
    "\n",
    "lr = 0.1\n",
    "gamma = 0.95\n",
    "epsilon = 0.2"
   ]
  },
  {
   "cell_type": "code",
   "execution_count": null,
   "metadata": {},
   "outputs": [],
   "source": [
    "all_epochs = []\n",
    "for i in range(1, 1500):\n",
    "\tstate = env.reset()\n",
    "\tepochs, reward = 0,0\n",
    "\taction = -1\n",
    "\tdone  = False\n",
    "\twhile not done:\n",
    "\t\tif(random.uniform(0, 1) < epsilon):\n",
    "\t\t\taction = env.random_action()\n",
    "\t\telse:\n",
    "\t\t\taction = np.argmax(q_table[state])\n",
    "\t\t\n",
    "\t\tnext_state, reward, done = env.step(action)\n",
    "\t\t\n",
    "\t\told_value = q_table[state + (action, )]\n",
    "\t\tnext_max = np.max(q_table[next_state])\n",
    "\t\tnew_value = (1-lr)*old_value + lr * (reward + gamma * next_max )\n",
    "\n",
    "\t\tq_table[state + (action, )] = new_value\n",
    "\t\tstate = next_state\n",
    "\t\tepochs +=1\n",
    "\n",
    "\tall_epochs.append(epochs)"
   ]
  },
  {
   "cell_type": "code",
   "execution_count": null,
   "metadata": {},
   "outputs": [],
   "source": [
    "print(np.max(q_table))\n",
    "plt.plot(all_epochs)"
   ]
  },
  {
   "cell_type": "code",
   "execution_count": null,
   "metadata": {},
   "outputs": [],
   "source": [
    "# Evaluation\n",
    "env.render(q_table)"
   ]
  }
 ],
 "metadata": {
  "language_info": {
   "name": "python"
  },
  "orig_nbformat": 4
 },
 "nbformat": 4,
 "nbformat_minor": 2
}
