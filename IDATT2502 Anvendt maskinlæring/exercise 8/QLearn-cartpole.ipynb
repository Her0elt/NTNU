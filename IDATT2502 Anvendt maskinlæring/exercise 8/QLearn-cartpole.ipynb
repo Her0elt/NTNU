{
 "cells": [
  {
   "cell_type": "code",
   "execution_count": null,
   "metadata": {},
   "outputs": [],
   "source": [
    "#https://youtube.com/watch?v=qhRNvCVVJaA\n",
    "#https://www.youtube.com/watch?v=mo96Nqlo1L8\n",
    "#https://www.youtube.com/watch?v=HGeI30uATws\n",
    "#https://www.datamachinist.com/reinforcement-learning/part-6-q-learning-for-continuous-state-problems/\n"
   ]
  },
  {
   "cell_type": "code",
   "execution_count": null,
   "metadata": {},
   "outputs": [],
   "source": [
    "\n",
    "import gym \n",
    "import math\n",
    "import numpy as np\n",
    "import matplotlib.pyplot as plt\n",
    "from sklearn.preprocessing import KBinsDiscretizer\n"
   ]
  },
  {
   "cell_type": "code",
   "execution_count": null,
   "metadata": {},
   "outputs": [],
   "source": [
    "class QLearnCartPoleSolver():\n",
    "    def __init__(self, env, buckets=(6, 12), episodes=100, epsilon_decay_rate = 0.1, \n",
    "        decay=24, max_steps=100, batch_size = 64, min_lr=0.1, discount=1.0,min_epsilon=0.1):\n",
    "\n",
    "        self.env = env\n",
    "        self.action_size = self.env.action_space.n\n",
    "        self.discount=discount\n",
    "        self.buckets = buckets\n",
    "        self.min_lr = min_lr\n",
    "        self.min_epsilon = min_epsilon \n",
    "        self.episodes = episodes\n",
    "        self.decay = decay\n",
    "        self.epsilon_decay_rate = epsilon_decay_rate\n",
    "        self.max_steps = max_steps\n",
    "        self.batch_size = batch_size\n",
    "        self.Q_Values = np.zeros(self.buckets +( self.action_size,))\n",
    "        self.upper_bounds = [\n",
    "            self.env.observation_space.high[2], math.radians(50)]\n",
    "        self.lower_bounds = [\n",
    "            self.env.observation_space.low[2], -math.radians(50)]\n",
    "\n",
    "\n",
    "    def get_epsilon(self, t):\n",
    "        return max(self.min_epsilon, min(1., 1. - math.log10((t + 1) / self.decay)))\n",
    "\n",
    "    def get_learning_rate(self, t):\n",
    "        return max(self.min_lr, min(1., 1. - math.log10((t + 1) / self.decay)))\n",
    "\n",
    "    def action(self, state):\n",
    "        return self.env.action_space.sample() if np.random.random() <= self.epsilon else np.argmax(self.Q_Values[state])\n",
    "\n",
    "    def updated_q_value(self, state, action, reward, new_state):\n",
    "        return (self.learning_rate * (reward + self.discount * np.max(self.Q_Values[new_state]) - self.Q_Values[state][action]))\n",
    "\n",
    "    def discretize_state(self, state):\n",
    "        _, _, angle, angle_velocity = state\n",
    "        est = KBinsDiscretizer(n_bins=self.buckets,\n",
    "                               encode='ordinal', strategy='uniform')\n",
    "        est.fit([self.lower_bounds, self.upper_bounds])\n",
    "        return tuple(map(int, est.transform([[angle, angle_velocity]])[0]))\n",
    "    \n",
    "    def train(self):\n",
    "        scores = []\n",
    "        for episode in range(self.episodes):\n",
    "            self.learning_rate = self.get_learning_rate(episode)\n",
    "            self.epsilon = self.get_epsilon(episode)\n",
    "            state = self.discretize_state(self.env.reset())\n",
    "            done = False\n",
    "            reward_current_ep = 0\n",
    "            while not done:\n",
    "                # self.env.render()\n",
    "                action = self.action(state)\n",
    "                next_state, reward, done, _ = self.env.step(action) \n",
    "                next_state = self.discretize_state(next_state)\n",
    "                self.Q_Values[state][action] += self.updated_q_value(state, action, reward, next_state)\n",
    "                state = next_state\n",
    "                reward_current_ep += 1\n",
    "                # print(f\"Trainingsession {episode+1}:\", step, \"steps\")\n",
    "            scores.append(reward_current_ep)\n",
    "            print(f\"{scores[episode]}  score for ep {episode+1}\")\n",
    "        print('Finished training!')\n",
    "        #self.env.close()\n",
    "        return scores\n",
    "            \n",
    "    def run(self):\n",
    "        done = False\n",
    "        current_state = self.discretize_state(self.env.reset())\n",
    "        score = 0\n",
    "        while not done:\n",
    "            self.env.render()\n",
    "            action = self.action(current_state)\n",
    "            observation, reward, done, _ = self.env.step(action)\n",
    "            new_state = self.discretize_state(observation)\n",
    "            current_state = new_state\n",
    "            score += reward\n",
    "        print(f\"score {score}\")\n",
    "        self.env.close()\n"
   ]
  },
  {
   "cell_type": "code",
   "execution_count": null,
   "metadata": {},
   "outputs": [],
   "source": [
    "\n",
    "env = gym.make('CartPole-v0')\n",
    "model = QLearnCartPoleSolver(env, episodes=5000)\n",
    "scores = model.train()\n"
   ]
  },
  {
   "cell_type": "code",
   "execution_count": 30,
   "metadata": {},
   "outputs": [
    {
     "data": {
      "text/plain": [
       "<matplotlib.legend.Legend at 0x7f8feb937bb0>"
      ]
     },
     "execution_count": 30,
     "metadata": {},
     "output_type": "execute_result"
    },
    {
     "data": {
      "image/png": "[encoded data removed]",
      "text/plain": [
       "<Figure size 432x288 with 1 Axes>"
      ]
     },
     "metadata": {
      "needs_background": "light"
     },
     "output_type": "display_data"
    }
   ],
   "source": [
    "plt.plot(scores,  c='blue', label='epochs')\n",
    "plt.legend()"
   ]
  },
  {
   "cell_type": "code",
   "execution_count": null,
   "metadata": {},
   "outputs": [],
   "source": [
    "model.run()"
   ]
  }
 ],
 "metadata": {
  "interpreter": {
   "hash": "31f2aee4e71d21fbe5cf8b01ff0e069b9275f58929596ceb00d14d90e3e16cd6"
  },
  "kernelspec": {
   "display_name": "Python 3.8.10 64-bit",
   "name": "python3"
  },
  "language_info": {
   "codemirror_mode": {
    "name": "ipython",
    "version": 3
   },
   "file_extension": ".py",
   "mimetype": "text/x-python",
   "name": "python",
   "nbconvert_exporter": "python",
   "pygments_lexer": "ipython3",
   "version": "3.8.10"
  },
  "orig_nbformat": 4
 },
 "nbformat": 4,
 "nbformat_minor": 2
}
