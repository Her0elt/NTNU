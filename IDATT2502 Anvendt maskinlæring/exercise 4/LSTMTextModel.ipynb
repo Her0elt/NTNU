{
 "cells": [
  {
   "cell_type": "code",
   "execution_count": 1,
   "source": [
    "import torch\n",
    "import numpy as np\n",
    "import torch.nn as nn\n",
    "\n",
    "\n",
    "index_to_char = [' ', 'h', 'e', 'l', 'o', 'w', 'r','d']\n",
    "\n",
    "char_encodings = np.eye(len(index_to_char))\n",
    "encoding_size = len(char_encodings)\n",
    "\n",
    "\n",
    "\n",
    "x_train = torch.tensor([[char_encodings[0]], [char_encodings[1]], [char_encodings[2]], [char_encodings[3]], [char_encodings[3]],\n",
    "                        [char_encodings[4]], [char_encodings[0]], [char_encodings[5]], [char_encodings[4]], [char_encodings[6]],[char_encodings[3]],[char_encodings[7]]], dtype=torch.float)  # ' hello'\n",
    "y_train = torch.tensor([char_encodings[1], char_encodings[2], char_encodings[3], char_encodings[3], char_encodings[4], char_encodings[0], char_encodings[5], char_encodings[4], char_encodings[6], char_encodings[3], char_encodings[7], char_encodings[0]], dtype=torch.float)\n",
    "\n",
    "print(x_train.shape)"
   ],
   "outputs": [
    {
     "output_type": "stream",
     "name": "stdout",
     "text": [
      "torch.Size([12, 1, 8])\n"
     ]
    }
   ],
   "metadata": {}
  },
  {
   "cell_type": "code",
   "execution_count": 2,
   "source": [
    "\n",
    "class LongShortTermMemoryModel(nn.Module):\n",
    "    def __init__(self, encoding_size):\n",
    "        super(LongShortTermMemoryModel, self).__init__()\n",
    "        self.lstm = nn.LSTM(encoding_size, 128)  # 128 is the state size\n",
    "        self.dense = nn.Linear(128, encoding_size)  # 128 is the state size\n",
    "\n",
    "    def reset(self):  # Reset states prior to new input sequence\n",
    "        zero_state = torch.zeros(1, 1, 128)  # Shape: (number of layers, batch size, state size)\n",
    "        self.hidden_state = zero_state\n",
    "        self.cell_state = zero_state\n",
    "\n",
    "    def logits(self, x):  # x shape: (sequence length, batch size, encoding size)\n",
    "        out, (self.hidden_state, self.cell_state) = self.lstm(x, (self.hidden_state, self.cell_state))\n",
    "        return self.dense(out.reshape(-1, 128))\n",
    "\n",
    "    def f(self, x):  # x shape: (sequence length, batch size, encoding size)\n",
    "        return torch.softmax(self.logits(x), dim=1)\n",
    "\n",
    "    def loss(self, x, y):  # x shape: (sequence length, batch size, encoding size), y shape: (sequence length, encoding size)\n",
    "        return nn.functional.cross_entropy(self.logits(x), y.argmax(1))\n",
    "\n"
   ],
   "outputs": [],
   "metadata": {}
  },
  {
   "cell_type": "code",
   "execution_count": 3,
   "source": [
    "\n",
    "\n",
    "model = LongShortTermMemoryModel(encoding_size)\n",
    "\n",
    "optimizer = torch.optim.RMSprop(model.parameters(), 0.001)\n",
    "for epoch in range(500):\n",
    "    model.reset()\n",
    "    model.loss(x_train, y_train).backward()\n",
    "    optimizer.step()\n",
    "    optimizer.zero_grad()\n",
    "\n",
    "    if epoch % 10 == 9:\n",
    "        # Generate characters from the initial characters ' h'\n",
    "        model.reset()\n",
    "        text = ' h'\n",
    "        model.f(torch.tensor([[char_encodings[0]]], dtype=torch.float))\n",
    "        y = model.f(torch.tensor([[char_encodings[1]]], dtype=torch.float))\n",
    "        text += index_to_char[y.argmax(1)]\n",
    "        for c in range(10):\n",
    "            y = model.f(torch.tensor([[char_encodings[y.argmax(1)]]],dtype=torch.float))\n",
    "            text += index_to_char[y.argmax(1)]\n",
    "        print(text)\n",
    "\n"
   ],
   "outputs": [
    {
     "output_type": "stream",
     "name": "stdout",
     "text": [
      " hllloo      \n",
      " hllloowwrrld\n",
      " hlllo world \n",
      " hlllo world \n",
      " hello world \n",
      " hello world \n",
      " hello world \n",
      " hello world \n",
      " hello world \n",
      " hello world \n",
      " hello world \n",
      " hello world \n",
      " hello world \n",
      " hello world \n",
      " hello world \n",
      " hello world \n",
      " hello world \n",
      " hello world \n",
      " hello world \n",
      " hello world \n",
      " hello world \n",
      " hello world \n",
      " hello world \n",
      " hello world \n",
      " hello world \n",
      " hello world \n",
      " hello world \n",
      " hello world \n",
      " hello world \n",
      " hello world \n",
      " hello world \n",
      " hello world \n",
      " hello world \n",
      " hello world \n",
      " hello world \n",
      " hello world \n",
      " hello world \n",
      " hello world \n",
      " hello world \n",
      " hello world \n",
      " hello world \n",
      " hello world \n",
      " hello world \n",
      " hello world \n",
      " hello world \n",
      " hello world \n",
      " hello world \n",
      " hello world \n",
      " hello world \n",
      " hello world \n"
     ]
    }
   ],
   "metadata": {}
  },
  {
   "cell_type": "code",
   "execution_count": 4,
   "source": [
    "text = ' h'\n",
    "model.reset()\n",
    "model.f(torch.tensor([[char_encodings[0]]], dtype=torch.float))\n",
    "y = model.f(torch.tensor([[char_encodings[1]]], dtype=torch.float))\n",
    "text += index_to_char[y.argmax(1)]\n",
    "for c in range(50):\n",
    "    y = model.f(torch.tensor([[char_encodings[y.argmax(1)]]],dtype=torch.float))\n",
    "    text += index_to_char[y.argmax(1)]\n",
    "print(text)"
   ],
   "outputs": [
    {
     "output_type": "stream",
     "name": "stdout",
     "text": [
      " hello world world world world  world world world  hr\n"
     ]
    }
   ],
   "metadata": {}
  }
 ],
 "metadata": {
  "orig_nbformat": 4,
  "language_info": {
   "name": "python",
   "version": "3.8.10",
   "mimetype": "text/x-python",
   "codemirror_mode": {
    "name": "ipython",
    "version": 3
   },
   "pygments_lexer": "ipython3",
   "nbconvert_exporter": "python",
   "file_extension": ".py"
  },
  "kernelspec": {
   "name": "python3",
   "display_name": "Python 3.8.10 64-bit"
  },
  "interpreter": {
   "hash": "916dbcbb3f70747c44a77c7bcd40155683ae19c65e1c03b4aa3499c5328201f1"
  }
 },
 "nbformat": 4,
 "nbformat_minor": 2
}