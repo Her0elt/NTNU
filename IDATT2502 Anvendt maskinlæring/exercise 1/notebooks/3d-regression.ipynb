{
 "cells": [
  {
   "cell_type": "code",
   "execution_count": 1,
   "source": [
    "%matplotlib widget\n",
    "import torch\n",
    "import pandas as pd\n",
    "import matplotlib.pyplot as plt\n",
    "\n",
    "train = pd.read_csv('../data/day_length_weight.csv', dtype='float')\n",
    "train_y = train.pop('day')\n",
    "train_x = torch.tensor(train.to_numpy(), dtype=torch.float).reshape(-1,2)\n",
    "train_y = torch.tensor(train_y.to_numpy(), dtype=torch.float).reshape(-1,1)"
   ],
   "outputs": [],
   "metadata": {}
  },
  {
   "cell_type": "code",
   "execution_count": 2,
   "source": [
    "class LinearRegressionModel:\n",
    "    def __init__(self):\n",
    "        self.W = torch.rand((2,1), requires_grad=True)\n",
    "        self.b = torch.rand((1,1), requires_grad=True)\n",
    "\n",
    "    def f(self, x):\n",
    "        return x @ self.W + self.b\n",
    "\n",
    "    def loss(self, x, y):\n",
    "        x = torch.nn.functional.mse_loss(self.f(x), y)\n",
    "        return x"
   ],
   "outputs": [],
   "metadata": {}
  },
  {
   "cell_type": "code",
   "execution_count": 3,
   "source": [
    "model = LinearRegressionModel()\n",
    "optimizer = torch.optim.SGD([model.b, model.W], lr=0.000115)\n",
    "for epoch in range(800000):\n",
    "    model.loss(train_x, train_y).backward() \n",
    "    optimizer.step() \n",
    "    optimizer.zero_grad()  \n",
    "\n",
    "print(\"W = %s, b = %s, loss = %s\" %(model.W, model.b, model.loss(train_x, train_y)))"
   ],
   "outputs": [
    {
     "output_type": "stream",
     "name": "stdout",
     "text": [
      "W = tensor([[26.1917],\n",
      "        [31.4873]], requires_grad=True), b = tensor([[-1829.6426]], requires_grad=True), loss = tensor(23483.0371, grad_fn=<MseLossBackward>)\n"
     ]
    }
   ],
   "metadata": {}
  },
  {
   "cell_type": "code",
   "execution_count": 4,
   "source": [
    "xt =train_x.t()[0]\n",
    "yt =train_x.t()[1]\n",
    "\n",
    "fig = plt.figure('Linear regression 3d')\n",
    "ax = fig.add_subplot(projection='3d', title=\"Model for predicting days lived by weight and length\")\n",
    "# Plot\n",
    "ax.scatter(xt.numpy(),  yt.numpy(), train_y.numpy(),label='$(x^{(i)},y^{(i)}, z^{(i)})$')\n",
    "ax.scatter(xt.numpy(),yt.numpy() ,model.f(train_x).detach().numpy() , label='$\\\\hat y = f(x) = xW+b$', color=\"orange\")\n",
    "ax.legend()\n",
    "plt.show()"
   ],
   "outputs": [
    {
     "output_type": "display_data",
     "data": {
      "text/plain": [
       "Canvas(toolbar=Toolbar(toolitems=[('Home', 'Reset original view', 'home', 'home'), ('Back', 'Back to previous …"
      ],
      "application/vnd.jupyter.widget-view+json": {
       "version_major": 2,
       "version_minor": 0,
       "model_id": "52d09bb87d7440308d646c4c0f718d31"
      }
     },
     "metadata": {}
    }
   ],
   "metadata": {}
  }
 ],
 "metadata": {
  "orig_nbformat": 4,
  "language_info": {
   "name": "python",
   "version": "3.8.10",
   "mimetype": "text/x-python",
   "codemirror_mode": {
    "name": "ipython",
    "version": 3
   },
   "pygments_lexer": "ipython3",
   "nbconvert_exporter": "python",
   "file_extension": ".py"
  },
  "kernelspec": {
   "name": "python3",
   "display_name": "Python 3.8.10 64-bit"
  },
  "interpreter": {
   "hash": "916dbcbb3f70747c44a77c7bcd40155683ae19c65e1c03b4aa3499c5328201f1"
  }
 },
 "nbformat": 4,
 "nbformat_minor": 2
}