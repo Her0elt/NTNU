{
 "cells": [
  {
   "cell_type": "code",
   "execution_count": 1,
   "source": [
    "%matplotlib inline\n",
    "import torch\n",
    "import matplotlib.pyplot as plt\n",
    "import numpy as np\n",
    "\n",
    "\n",
    "\n",
    "train_x = torch.tensor([[0, 1], [0, 0], [1, 0], [1,1]], dtype=torch.float).reshape(-1,2)\n",
    "train_y = torch.tensor([[1], [1], [1], [0]], dtype=torch.float)\n"
   ],
   "outputs": [],
   "metadata": {}
  },
  {
   "cell_type": "code",
   "execution_count": 2,
   "source": [
    "class NANDOperatorModel:\n",
    "    def __init__(self):\n",
    "        self.W = torch.rand((2,1), requires_grad=True)\n",
    "        self.b = torch.rand((1,1), requires_grad=True)\n",
    "    # Predictor\n",
    "    def f(self, x):\n",
    "        return torch.sigmoid(self.logits(x))\n",
    "    \n",
    "    def logits(self, x):\n",
    "        return x @ self.W + self.b\n",
    "\n",
    "    def loss(self, x, y):\n",
    "        return torch.nn.functional.binary_cross_entropy_with_logits(self.logits(x),y)"
   ],
   "outputs": [],
   "metadata": {}
  },
  {
   "cell_type": "code",
   "execution_count": 3,
   "source": [
    "model = NANDOperatorModel()\n",
    "\n",
    "optimizer = torch.optim.SGD([model.b, model.W], lr=0.1)\n",
    "for epoch in range(250000):\n",
    "    model.loss(train_x, train_y).backward()  \n",
    "    optimizer.step() \n",
    "    optimizer.zero_grad()  \n",
    "\n",
    "print(\"W = %s, b = %s, loss = %s\" %(model.W, model.b, model.loss(train_x, train_y)))"
   ],
   "outputs": [],
   "metadata": {}
  },
  {
   "cell_type": "code",
   "execution_count": null,
   "source": [
    "xt =train_x.t()[0]\n",
    "yt =train_x.t()[1]\n",
    "\n",
    "fig = plt.figure(\"Logistic regression: the logical OR operator\")\n",
    "\n",
    "plot1 = fig.add_subplot(111, projection='3d')\n",
    "\n",
    "plot1_f = plot1.plot_wireframe(np.array([[]]), np.array([[]]), np.array([[]]), color=\"green\", label=\"$\\\\hat y=f(\\\\mathbf{x})=\\\\sigma(\\\\mathbf{xW}+b)$\")\n",
    "\n",
    "plot1.plot(xt.squeeze(), yt.squeeze(), train_y[:, 0].squeeze(), 'o', label=\"$(x_1^{(i)}, x_2^{(i)},y^{(i)})$\", color=\"blue\")\n",
    "\n",
    "plot1_info = fig.text(0.01, 0.02, \"\")\n",
    "\n",
    "plot1.set_xlabel(\"$x_1$\")\n",
    "plot1.set_ylabel(\"$x_2$\")\n",
    "plot1.set_zlabel(\"$y$\")\n",
    "plot1.legend(loc=\"upper left\")\n",
    "plot1.set_xticks([0, 1])\n",
    "plot1.set_yticks([0, 1])\n",
    "plot1.set_zticks([0, 1])\n",
    "plot1.set_xlim(-0.25, 1.25)\n",
    "plot1.set_ylim(-0.25, 1.25)\n",
    "plot1.set_zlim(-0.25, 1.25)\n",
    "\n",
    "table = plt.table(cellText=[[0, 0, 0], [0, 1, 0], [1, 0, 0], [1, 1, 0]],\n",
    "                  colWidths=[0.1] * 3,\n",
    "                  colLabels=[\"$x_1$\", \"$x_2$\", \"$f(\\\\mathbf{x})$\"],\n",
    "                  cellLoc=\"center\",\n",
    "                  loc=\"lower right\")\n",
    "\n",
    "\n",
    "plot1_f.remove()\n",
    "x1_grid, x2_grid = np.meshgrid(np.linspace(-0.25, 1.25, 10), np.linspace(-0.25, 1.25, 10))\n",
    "y_grid = np.empty([10, 10])\n",
    "for i in range(0, x1_grid.shape[0]):\n",
    "    for j in range(0, x1_grid.shape[1]):\n",
    "        y_grid[i, j] = model.f(torch.tensor([[(x1_grid[i, j]),  (x2_grid[i, j])]], dtype=torch.float))\n",
    "plot1_f = plot1.plot_wireframe(x1_grid, x2_grid, y_grid, color=\"green\")\n",
    "\n",
    "\n",
    "fig.canvas.draw()\n",
    "\n",
    "plt.show()"
   ],
   "outputs": [
    {
     "output_type": "display_data",
     "data": {
      "application/vnd.jupyter.widget-view+json": {
       "version_major": 2,
       "version_minor": 0,
       "model_id": "f943547429d54787921a9aaddaa5b7f5"
      },
      "text/plain": [
       "Canvas(toolbar=Toolbar(toolitems=[('Home', 'Reset original view', 'home', 'home'), ('Back', 'Back to previous …"
      ]
     },
     "metadata": {}
    },
    {
     "output_type": "stream",
     "name": "stderr",
     "text": [
      "/home/hermanoe/.local/lib/python3.8/site-packages/mpl_toolkits/mplot3d/proj3d.py:136: FutureWarning: The input object of type 'Tensor' is an array-like implementing one of the corresponding protocols (`__array__`, `__array_interface__` or `__array_struct__`); but not a sequence (or 0-D). In the future, this object will be coerced as if it was first converted using `np.array(obj)`. To retain the old behaviour, you have to either modify the type 'Tensor', or assign to an empty array created with `np.empty(correct_shape, dtype=object)`.\n",
      "  return np.array([xs, ys, zs, np.ones_like(xs)])\n",
      "/home/hermanoe/.local/lib/python3.8/site-packages/mpl_toolkits/mplot3d/proj3d.py:136: VisibleDeprecationWarning: Creating an ndarray from ragged nested sequences (which is a list-or-tuple of lists-or-tuples-or ndarrays with different lengths or shapes) is deprecated. If you meant to do this, you must specify 'dtype=object' when creating the ndarray.\n",
      "  return np.array([xs, ys, zs, np.ones_like(xs)])\n"
     ]
    }
   ],
   "metadata": {}
  }
 ],
 "metadata": {
  "orig_nbformat": 4,
  "language_info": {
   "name": "python",
   "version": "3.8.10",
   "mimetype": "text/x-python",
   "codemirror_mode": {
    "name": "ipython",
    "version": 3
   },
   "pygments_lexer": "ipython3",
   "nbconvert_exporter": "python",
   "file_extension": ".py"
  },
  "kernelspec": {
   "name": "python3",
   "display_name": "Python 3.8.10 64-bit"
  },
  "interpreter": {
   "hash": "916dbcbb3f70747c44a77c7bcd40155683ae19c65e1c03b4aa3499c5328201f1"
  }
 },
 "nbformat": 4,
 "nbformat_minor": 2
}