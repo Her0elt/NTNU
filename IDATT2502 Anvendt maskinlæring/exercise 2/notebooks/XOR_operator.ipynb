{
 "cells": [
  {
   "cell_type": "code",
   "execution_count": 1,
   "source": [
    "%matplotlib inline\n",
    "import torch\n",
    "import matplotlib.pyplot as plt\n",
    "import numpy as np\n",
    "\n",
    "train_x = torch.tensor([[0, 0], [0, 1], [1, 0], [1, 1]], dtype=torch.float).reshape(-1,2)\n",
    "train_y = torch.tensor([[0], [1], [1], [0]], dtype=torch.float)\n",
    "\n",
    "W1_init = torch.tensor([[10.0, -10.0], [10.0, -10.0]], requires_grad=True)\n",
    "b1_init =  torch.tensor([[-5.0, 15.0]], requires_grad=True)\n",
    "W2_init =  torch.tensor([[10.0], [10.0]], requires_grad=True)\n",
    "b2_init =  torch.tensor([[-15.0]], requires_grad=True)\n",
    "\n",
    "print(W1_init.shape)\n",
    "print(W2_init.shape)\n",
    "print(b1_init.shape)\n",
    "print(b2_init.shape)"
   ],
   "outputs": [],
   "metadata": {}
  },
  {
   "cell_type": "code",
   "execution_count": null,
   "source": [
    "class XOROperatorModel:\n",
    "    def __init__(self, W1=W1_init, W2=W2_init, b1=b1_init, b2=b2_init):\n",
    "        self.W1 = W1\n",
    "        self.W2 = W2\n",
    "        self.b1 = b1\n",
    "        self.b2 = b2\n",
    "\n",
    "    # Predictor\n",
    "    def f1(self, x):\n",
    "        return torch.sigmoid(x @ self.W1 + self.b1)\n",
    "\n",
    "    def f2(self,x):\n",
    "        return torch.sigmoid(x @ self.W2 + self.b2)\n",
    "\n",
    "    def f(self, x):\n",
    "        return self.f2(self.f1(x))  \n",
    "    \n",
    "\n",
    "    def loss(self, x, y):\n",
    "        return torch.nn.functional.binary_cross_entropy_with_logits(self.f(x),y)"
   ],
   "outputs": [],
   "metadata": {}
  },
  {
   "cell_type": "code",
   "execution_count": null,
   "source": [
    "model = XOROperatorModel()\n",
    "\n",
    "model2 = XOROperatorModel(\n",
    "    torch.rand((2,2), requires_grad=True),\n",
    "    torch.rand((2,1), requires_grad=True),\n",
    "    torch.rand((1,2), requires_grad=True),\n",
    "    torch.rand((1,1), requires_grad=True)\n",
    ")\n",
    "\n",
    "optimizer = torch.optim.SGD([model.b1, model.W1, model.W2, model.b2], lr=0.1)\n",
    "optimizer2 = torch.optim.SGD([model2.b1, model2.W1, model2.W2, model2.b2], lr=0.1)\n",
    "for epoch in range(250000):\n",
    "    model.loss(train_x, train_y).backward()  \n",
    "    optimizer.step() \n",
    "    optimizer.zero_grad()  \n",
    "    model2.loss(train_x, train_y).backward()  \n",
    "    optimizer2.step() \n",
    "    optimizer2.zero_grad()  \n",
    "\n",
    "print(\"Model 1 W1 = %s, b1 = %s, W2 = %s, b2 = %s, loss = %s\" %(model.b1, model.W1, model.W2, model.b2, model.loss(train_x, train_y)))\n",
    "print(\"Model 2W1 = %s, b1 = %s, W2 = %s, b2 = %s, loss = %s\" %(model2.b1, model2.W1, model2.W2, model2.b2, model2.loss(train_x, train_y)))"
   ],
   "outputs": [
    {
     "output_type": "stream",
     "name": "stderr",
     "text": [
      "/home/hermanoe/.local/lib/python3.8/site-packages/torch/optim/sgd.py:69: UserWarning: optimizer contains a parameter group with duplicate parameters; in future, this will cause an error; see github.com/pytorch/pytorch/issues/40967 for more information\n",
      "  super(SGD, self).__init__(params, defaults)\n"
     ]
    },
    {
     "output_type": "stream",
     "name": "stdout",
     "text": [
      "Model 1 W1 = tensor([[-5.2275, 15.5728]], requires_grad=True), b1 = tensor([[ 10.6046, -10.4728],\n",
      "        [ 10.6046, -10.4728]], requires_grad=True), W2 = tensor([[10.0442],\n",
      "        [10.0395]], requires_grad=True), b2 = tensor([[-15.]], requires_grad=True), loss = tensor(0.5060, grad_fn=<BinaryCrossEntropyWithLogitsBackward>)\n",
      "Model 2W1 = tensor([[0.8008, 0.6073]], requires_grad=True), b1 = tensor([[ 7.9493,  7.5883],\n",
      "        [-7.9024, -7.6234]], requires_grad=True), W2 = tensor([[-7.2107],\n",
      "        [-6.5187]], requires_grad=True), b2 = tensor([[0.9524]], requires_grad=True), loss = tensor(0.6191, grad_fn=<BinaryCrossEntropyWithLogitsBackward>)\n"
     ]
    }
   ],
   "metadata": {}
  },
  {
   "cell_type": "code",
   "execution_count": null,
   "source": [
    "xt =train_x.t()[0]\n",
    "yt =train_x.t()[1]\n",
    "\n",
    "fig = plt.figure(\"Logistic regression: the logical OR operator\")\n",
    "\n",
    "plot1 = fig.add_subplot(111, projection='3d')\n",
    "\n",
    "plot1_f = plot1.plot_wireframe(np.array([[]]), np.array([[]]), np.array([[]]), color=\"green\", label=\"$\\\\hat y=f(\\\\mathbf{x})=\\\\sigma(\\\\mathbf{xW}+b)$\")\n",
    "\n",
    "plot1.plot(xt.squeeze(), yt.squeeze(), train_y[:, 0].squeeze(), 'o', label=\"$(x_1^{(i)}, x_2^{(i)},y^{(i)})$\", color=\"blue\")\n",
    "\n",
    "plot1_info = fig.text(0.01, 0.02, \"\")\n",
    "\n",
    "plot1.set_xlabel(\"$x_1$\")\n",
    "plot1.set_ylabel(\"$x_2$\")\n",
    "plot1.set_zlabel(\"$y$\")\n",
    "plot1.legend(loc=\"upper left\")\n",
    "plot1.set_xticks([0, 1])\n",
    "plot1.set_yticks([0, 1])\n",
    "plot1.set_zticks([0, 1])\n",
    "plot1.set_xlim(-0.25, 1.25)\n",
    "plot1.set_ylim(-0.25, 1.25)\n",
    "plot1.set_zlim(-0.25, 1.25)\n",
    "\n",
    "table = plt.table(cellText=[[0, 0, 0], [0, 1, 1], [1, 0, 1], [1, 1, 0]],\n",
    "                  colWidths=[0.1] * 3,\n",
    "                  colLabels=[\"$x_1$\", \"$x_2$\", \"$f(\\\\mathbf{x})$\"],\n",
    "                  cellLoc=\"center\",\n",
    "                  loc=\"lower right\")\n",
    "\n",
    "\n",
    "plot1_f.remove()\n",
    "def plotModel(model, plot, color):\n",
    "    x1_grid, x2_grid = np.meshgrid(np.linspace(-0.25, 1.25, 10), np.linspace(-0.25, 1.25, 10))\n",
    "    y_grid = np.empty([10, 10])\n",
    "    for i in range(0, x1_grid.shape[0]):\n",
    "        for j in range(0, x1_grid.shape[1]):\n",
    "            y_grid[i, j] = model.f(torch.tensor([[(x1_grid[i, j]),  (x2_grid[i, j])]], dtype=torch.float))\n",
    "    plot1_f = plot.plot_wireframe(x1_grid, x2_grid, y_grid, color=color)\n",
    "\n",
    "plotModel(model, plot1, \"green\")\n",
    "plotModel(model2, plot1, \"orange\")\n",
    "\n",
    "fig.canvas.draw()\n",
    "\n",
    "plt.show()"
   ],
   "outputs": [
    {
     "output_type": "display_data",
     "data": {
      "text/plain": [
       "Canvas(toolbar=Toolbar(toolitems=[('Home', 'Reset original view', 'home', 'home'), ('Back', 'Back to previous …"
      ],
      "application/vnd.jupyter.widget-view+json": {
       "version_major": 2,
       "version_minor": 0,
       "model_id": "cdd9688a4822496c8061f6cffee4c2df"
      }
     },
     "metadata": {}
    },
    {
     "output_type": "stream",
     "name": "stderr",
     "text": [
      "/home/hermanoe/.local/lib/python3.8/site-packages/mpl_toolkits/mplot3d/proj3d.py:136: FutureWarning: The input object of type 'Tensor' is an array-like implementing one of the corresponding protocols (`__array__`, `__array_interface__` or `__array_struct__`); but not a sequence (or 0-D). In the future, this object will be coerced as if it was first converted using `np.array(obj)`. To retain the old behaviour, you have to either modify the type 'Tensor', or assign to an empty array created with `np.empty(correct_shape, dtype=object)`.\n",
      "  return np.array([xs, ys, zs, np.ones_like(xs)])\n",
      "/home/hermanoe/.local/lib/python3.8/site-packages/mpl_toolkits/mplot3d/proj3d.py:136: VisibleDeprecationWarning: Creating an ndarray from ragged nested sequences (which is a list-or-tuple of lists-or-tuples-or ndarrays with different lengths or shapes) is deprecated. If you meant to do this, you must specify 'dtype=object' when creating the ndarray.\n",
      "  return np.array([xs, ys, zs, np.ones_like(xs)])\n"
     ]
    }
   ],
   "metadata": {}
  }
 ],
 "metadata": {
  "orig_nbformat": 4,
  "language_info": {
   "name": "python",
   "version": "3.8.10",
   "mimetype": "text/x-python",
   "codemirror_mode": {
    "name": "ipython",
    "version": 3
   },
   "pygments_lexer": "ipython3",
   "nbconvert_exporter": "python",
   "file_extension": ".py"
  },
  "kernelspec": {
   "name": "python3",
   "display_name": "Python 3.8.10 64-bit"
  },
  "interpreter": {
   "hash": "916dbcbb3f70747c44a77c7bcd40155683ae19c65e1c03b4aa3499c5328201f1"
  }
 },
 "nbformat": 4,
 "nbformat_minor": 2
}