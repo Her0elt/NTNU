{
 "cells": [
  {
   "cell_type": "code",
   "execution_count": 1,
   "metadata": {},
   "outputs": [],
   "source": [
    "import skimage\n",
    "import skimage.io\n",
    "import skimage.transform\n",
    "import pathlib\n",
    "import numpy as np\n",
    "import utils\n",
    "import matplotlib.pyplot as plt\n",
    "image_dir = pathlib.Path(\"images\")\n",
    "impaths = [\n",
    "    image_dir.joinpath(\"page1.png\"),\n",
    "    image_dir.joinpath(\"page2.png\"),\n",
    "    image_dir.joinpath(\"page4.png\"),\n",
    "    image_dir.joinpath(\"page6.png\"),\n",
    "    image_dir.joinpath(\"page7.png\"),\n",
    "    image_dir.joinpath(\"page8.png\"),\n",
    "]"
   ]
  },
  {
   "cell_type": "code",
   "execution_count": null,
   "metadata": {},
   "outputs": [],
   "source": [
    "def create_binary_image(im):\n",
    "    \"\"\"Creates a binary image from a greyscale image \"im\"\n",
    "\n",
    "    Args:\n",
    "        im ([np.ndarray, np.float]): [An image of shape [H, W] in the range [0, 1]]\n",
    "\n",
    "    Returns:\n",
    "        [np.ndarray, np.bool]: [A binary image]\n",
    "    \"\"\"\n",
    "\n",
    "    # START YOUR CODE HERE ### (You can change anything inside this block)\n",
    "    binary_im = np.zeros_like(im, dtype=np.bool)\n",
    "    ### END YOUR CODE HERE ###\n",
    "    return binary_im"
   ]
  },
  {
   "cell_type": "code",
   "execution_count": null,
   "metadata": {},
   "outputs": [],
   "source": [
    "if __name__ == \"__main__\":\n",
    "    # NO NEED TO EDIT THE CODE BELOW.\n",
    "    verbose = True\n",
    "    plt.figure(figsize=(4, 12))    \n",
    "    plt.tight_layout()\n",
    "    images_to_visualize = []\n",
    "    for i, impath in enumerate(impaths):\n",
    "        im = utils.read_im(str(impath))\n",
    "        im_binary = create_binary_image(im)\n",
    "        assert im_binary.dtype == np.bool,            f\"Expected the image to be of dtype np.bool, got {im_binary.dtype}\"\n",
    "        angles, distances = utils.find_angle(im_binary)\n",
    "        angle = 0\n",
    "        if len(angles) > 0:\n",
    "            angle = angles[0] * 180 / np.pi\n",
    "        print(f\"Found angle: {angle:.2f}\")\n",
    "        hough_im = utils.create_hough_line_image(im, angles, distances)\n",
    "        rotated = skimage.transform.rotate(im, angle, cval=im.max())\n",
    "        images_to_visualize.extend(\n",
    "            [im, im_binary, hough_im, rotated]\n",
    "        )\n",
    "    image = utils.np_make_image_grid(images_to_visualize, nrow=len(impaths))\n",
    "    utils.save_im(\"task4d.png\", image)\n",
    "    plt.imshow(image, cmap=\"gray\")"
   ]
  }
 ],
 "metadata": {
  "kernelspec": {
   "display_name": "Python 3.9.5 ('base')",
   "language": "python",
   "name": "python3"
  },
  "language_info": {
   "codemirror_mode": {
    "name": "ipython",
    "version": 3
   },
   "file_extension": ".py",
   "mimetype": "text/x-python",
   "name": "python",
   "nbconvert_exporter": "python",
   "pygments_lexer": "ipython3",
   "version": "3.9.5"
  },
  "vscode": {
   "interpreter": {
    "hash": "19d1d53a962d236aa061289c2ac16dc8e6d9648c89fe79f459ae9a3493bc67b4"
   }
  }
 },
 "nbformat": 4,
 "nbformat_minor": 4
}
